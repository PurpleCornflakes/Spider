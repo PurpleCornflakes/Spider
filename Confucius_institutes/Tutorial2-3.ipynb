{
 "cells": [
  {
   "cell_type": "code",
   "execution_count": 32,
   "metadata": {},
   "outputs": [],
   "source": [
    "# It's from a tutorial https://cuiqingcai.com/5052.html."
   ]
  },
  {
   "cell_type": "code",
   "execution_count": 5,
   "metadata": {},
   "outputs": [],
   "source": [
    "from urllib import parse\n",
    "import socket\n",
    "import urllib.request\n",
    "import urllib.error"
   ]
  },
  {
   "cell_type": "markdown",
   "metadata": {},
   "source": [
    "## 0. Simple Case\n",
    "\n",
    "https: Hyper Text Transfer Protocol over SSL\n",
    "\n",
    "### send a Request from Client with:\n",
    "#### Request Method: \n",
    "- GET\n",
    "- POST\n",
    "- PUT\n",
    "- DELETE\n",
    "- ...\n",
    "\n",
    "#### Request URL \n",
    "- Universal Resource Locator(http://www.hanban.org/report/)\n",
    "\n",
    "#### Request Headers including\n",
    "- Accept-Language, Accept-Encoding\n",
    "- Content-Type: format to submit data (text/html, img/gif, application/json)\n",
    "- Cookie\n",
    "- User-Agent: which could be sent while crawling to fake a browser\n",
    "- Host (www.hanban.org)\n",
    "\n",
    "#### Request Body if the request method is POST\n",
    "- to send username and password,set Content-Type as 'application/x-www-form-urlencoded'\n",
    "\n",
    "### get Response from Server:\n",
    "#### Response Status Code\n",
    "- 200 ok\n",
    "- ...\n",
    "\n",
    "#### Response Headers\n",
    "- Date: respond time (Fri, 14 Dec 2018 05:53:51 GMT)\n",
    "- Content-Encoding(gzip)\n",
    "- set-Cookie: info that needs to be included in Cookie\n",
    "- Last Modified: last modified time of requested resource (Fri, 18 May 2018 07:54:56 GMT)\n",
    "\n",
    "#### Response body\n",
    "- html\n",
    "- img\n",
    "- ..."
   ]
  },
  {
   "cell_type": "markdown",
   "metadata": {},
   "source": [
    "### 0.1 Construct Request"
   ]
  },
  {
   "cell_type": "code",
   "execution_count": null,
   "metadata": {},
   "outputs": [],
   "source": [
    "# Request URL\n",
    "url = 'http://httpbin.org/post'\n",
    "\n",
    "# Request Headers\n",
    "headers = {\n",
    "    'User-Agent': 'Mozilla/5.0 (Macintosh; Intel Mac OS X 10_14_1) AppleWebKit/537.36 (KHTML, like Gecko) Chrome/70.0.3538.102 Safari/537.36',\n",
    "    'Host': 'httpbin.org'\n",
    "}\n",
    "\n",
    "# the Request Method would be 'POST' if use data=data.\n",
    "dict = {\n",
    "    'name': 'Germey'\n",
    "}\n",
    "data = bytes(parse.urlencode(dict), encoding='utf8')"
   ]
  },
  {
   "cell_type": "code",
   "execution_count": 6,
   "metadata": {},
   "outputs": [],
   "source": [
    "'''\n",
    "class urllib.request.Request(url, data=None, headers={}, origin_req_host=None, unverifiable=False, method=None)\n",
    "Construct a request\n",
    "\n",
    "'''\n",
    "req = urllib.request.Request(url=url, data=data, headers=headers, method='POST')"
   ]
  },
  {
   "cell_type": "markdown",
   "metadata": {},
   "source": [
    "### 0.2 send Request, get response"
   ]
  },
  {
   "cell_type": "code",
   "execution_count": 7,
   "metadata": {},
   "outputs": [
    {
     "name": "stdout",
     "output_type": "stream",
     "text": [
      "{\n",
      "  \"args\": {}, \n",
      "  \"data\": \"\", \n",
      "  \"files\": {}, \n",
      "  \"form\": {\n",
      "    \"name\": \"Germey\"\n",
      "  }, \n",
      "  \"headers\": {\n",
      "    \"Accept-Encoding\": \"identity\", \n",
      "    \"Connection\": \"close\", \n",
      "    \"Content-Length\": \"11\", \n",
      "    \"Content-Type\": \"application/x-www-form-urlencoded\", \n",
      "    \"Host\": \"httpbin.org\", \n",
      "    \"User-Agent\": \"Mozilla/5.0 (Macintosh; Intel Mac OS X 10_14_1) AppleWebKit/537.36 (KHTML, like Gecko) Chrome/70.0.3538.102 Safari/537.36\"\n",
      "  }, \n",
      "  \"json\": null, \n",
      "  \"origin\": \"172.17.18.118, 137.132.3.10\", \n",
      "  \"url\": \"http://httpbin.org/post\"\n",
      "}\n",
      "\n"
     ]
    }
   ],
   "source": [
    "'''\n",
    "response = urllib.request.urlopen(url, data=None, [timeout, ]*, cafile=None, capath=None, cadefault=False, context=None)\n",
    "send a request and get response.\n",
    "response.status: response status code\n",
    "response.get_headers(): get all response headers\n",
    "response.get_header('Server'): get 'Server' header\n",
    "response.read(): get reponse content\n",
    "'''\n",
    "try:\n",
    "    response = urllib.request.urlopen(req,timeout=1)\n",
    "except urllib.error.URLError as e:\n",
    "    if isinstance(e.reason, socket.timeout):\n",
    "        print('TIME OUT')\n",
    "print(response.read().decode('utf-8'))"
   ]
  },
  {
   "cell_type": "markdown",
   "metadata": {},
   "source": [
    "## 1. Requests package: Use cookies and proxy easily\n",
    "登陆网站\n",
    "--> 返回cookie到Client\n",
    "--> 存储cookie于Browser\n",
    "--> 下次访问网页时发送带有此cookie的request\n",
    "--> Server判断此用户是否在登陆状态\n",
    "--> 返回response"
   ]
  },
  {
   "cell_type": "markdown",
   "metadata": {},
   "source": [
    "### requests.get()"
   ]
  },
  {
   "cell_type": "code",
   "execution_count": 23,
   "metadata": {},
   "outputs": [
    {
     "data": {
      "text/plain": [
       "'\\nresponse.status_code\\nresponse.text\\nresponse.content\\nresponse.cookies\\n'"
      ]
     },
     "execution_count": 23,
     "metadata": {},
     "output_type": "execute_result"
    }
   ],
   "source": [
    "import requests\n",
    "import re\n",
    " \n",
    "headers = {\n",
    "    'User-Agent': 'Mozilla/5.0 (Macintosh; Intel Mac OS X 10_11_4) AppleWebKit/537.36 (KHTML, like Gecko) Chrome/52.0.2743.116 Safari/537.36'\n",
    "}\n",
    "response = requests.get(\"https://github.com/favicon.ico\")\n",
    "with open('favicon.ico', 'wb') as f:\n",
    "    f.write(response.content)\n",
    "\n",
    "'''\n",
    "response.status_code\n",
    "response.text\n",
    "response.content\n",
    "response.cookies\n",
    "response.url\n",
    "response.history\n",
    "'''\n"
   ]
  },
  {
   "cell_type": "markdown",
   "metadata": {},
   "source": [
    "### requests.post()"
   ]
  },
  {
   "cell_type": "code",
   "execution_count": null,
   "metadata": {},
   "outputs": [],
   "source": [
    "import requests\n",
    " \n",
    "data = {'name': 'germey', 'age': '22'}\n",
    "r = requests.post(\"http://httpbin.org/post\", data=data)\n",
    "print(r.text)"
   ]
  },
  {
   "cell_type": "markdown",
   "metadata": {},
   "source": [
    "### Use cookie"
   ]
  },
  {
   "cell_type": "code",
   "execution_count": 31,
   "metadata": {},
   "outputs": [],
   "source": [
    "import requests\n",
    "# log in, find your Cookie and paste it below.\n",
    "headers = {\n",
    "    'Cookie': '_octo=GH1.1.1444791874.1498720994; _ga=GA1.2.1489440143.1498720994; tz=Asia%2FSingapore; has_recent_activity=1; _gat=1; user_session=ICBEpigjOJULtVXoVgTTtkIm_GTkX0P5hjZPj6RmapLqbh98; __Host-user_session_same_site=ICBEpigjOJULtVXoVgTTtkIm_GTkX0P5hjZPj6RmapLqbh98; logged_in=yes; dotcom_user=PurpleCornflakes; _gh_sess=enhFOVRqVXgrS3lwUkRveE5KL3pJdG01MkNNa29VSjRkS09aTU9IZUxkUmFCckFBMFFDbHFrd0xQaW1Zc08rVjFFeE12RGFwWDdCKzVBRlpvOWU4V2ZSa1ZFZlB5U2FPSGdKUFZ1TlJ3bVIzWmdmWFo3NldEOVkxdGVyMTZPb0gvUVE2TFhacVZNSlJpTUVwcWEvK2x0M0R3RWRiOVhFK2orZSt1dXRCM1B5akRodDhLd05MUU5PT2RHdHFOVG1BR214SWRyaFhva3h4bUZRa1VJbUZ4VHU1V0w4bm5aZkVxaW5WZDdXT1crVT0tLWd1UWE0b3AyUzZOanM5VWpZUWx6MHc9PQ%3D%3D--c5de933ed4ad5acd511658ab54e3b76de99ea2ef',\n",
    "    'Host': 'github.com',\n",
    "    'User-Agent': 'Mozilla/5.0 (Macintosh; Intel Mac OS X 10_14_1) AppleWebKit/537.36 (KHTML, like Gecko) Chrome/70.0.3538.102 Safari/537.36',\n",
    "}\n",
    "r = requests.get('https://github.com', headers=headers)\n",
    "# print(r.text)"
   ]
  },
  {
   "cell_type": "markdown",
   "metadata": {},
   "source": [
    "### maintain a session"
   ]
  },
  {
   "cell_type": "code",
   "execution_count": 30,
   "metadata": {},
   "outputs": [
    {
     "name": "stdout",
     "output_type": "stream",
     "text": [
      "{\n",
      "  \"cookies\": {}\n",
      "}\n",
      "\n",
      "{\n",
      "  \"cookies\": {\n",
      "    \"number\": \"123456789\"\n",
      "  }\n",
      "}\n",
      "\n"
     ]
    }
   ],
   "source": [
    "# two sessions\n",
    "import requests\n",
    " \n",
    "requests.get('http://httpbin.org/cookies/set/number/123456789')\n",
    "r = requests.get('http://httpbin.org/cookies')\n",
    "print(r.text)\n",
    "\n",
    "# one session\n",
    "import requests\n",
    " \n",
    "s = requests.Session()\n",
    "s.get('http://httpbin.org/cookies/set/number/123456789')\n",
    "r = s.get('http://httpbin.org/cookies')\n",
    "print(r.text)"
   ]
  },
  {
   "cell_type": "code",
   "execution_count": null,
   "metadata": {},
   "outputs": [],
   "source": []
  }
 ],
 "metadata": {
  "kernelspec": {
   "display_name": "Python 3",
   "language": "python",
   "name": "python3"
  },
  "language_info": {
   "codemirror_mode": {
    "name": "ipython",
    "version": 3
   },
   "file_extension": ".py",
   "mimetype": "text/x-python",
   "name": "python",
   "nbconvert_exporter": "python",
   "pygments_lexer": "ipython3",
   "version": "3.6.4"
  }
 },
 "nbformat": 4,
 "nbformat_minor": 2
}
