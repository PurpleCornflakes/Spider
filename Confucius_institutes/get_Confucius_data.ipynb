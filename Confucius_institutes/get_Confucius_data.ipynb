{
 "cells": [
  {
   "cell_type": "code",
   "execution_count": 122,
   "metadata": {},
   "outputs": [],
   "source": [
    "import scrapy\n",
    "from scrapy.selector import Selector\n",
    "import requests"
   ]
  },
  {
   "cell_type": "code",
   "execution_count": 123,
   "metadata": {},
   "outputs": [],
   "source": [
    "url = \"http://www.hanban.edu.cn/hanbancn/template/ciotab_cn1.htm\""
   ]
  },
  {
   "cell_type": "code",
   "execution_count": 124,
   "metadata": {},
   "outputs": [],
   "source": [
    "response = requests.get(url=url)"
   ]
  },
  {
   "cell_type": "code",
   "execution_count": 125,
   "metadata": {},
   "outputs": [
    {
     "data": {
      "text/plain": [
       "'ISO-8859-1'"
      ]
     },
     "execution_count": 125,
     "metadata": {},
     "output_type": "execute_result"
    }
   ],
   "source": [
    "response.encoding"
   ]
  },
  {
   "cell_type": "code",
   "execution_count": 126,
   "metadata": {},
   "outputs": [],
   "source": [
    "html0 = response.content.decode(\"utf8\")"
   ]
  },
  {
   "cell_type": "code",
   "execution_count": 127,
   "metadata": {},
   "outputs": [],
   "source": [
    "sel0 = Selector(text=html0)"
   ]
  },
  {
   "cell_type": "code",
   "execution_count": 128,
   "metadata": {},
   "outputs": [],
   "source": [
    "college_urls = sel0.xpath(\"//div[@class='tcon_nation']//a[@target='_blank']/@href\").extract()"
   ]
  },
  {
   "cell_type": "code",
   "execution_count": 129,
   "metadata": {},
   "outputs": [
    {
     "name": "stdout",
     "output_type": "stream",
     "text": [
      "i = 743/743           "
     ]
    }
   ],
   "source": [
    "responses = []\n",
    "for i,url in enumerate(college_urls):\n",
    "    responses.append(requests.get(url))\n",
    "    print(\"\\ri = {}/{}           \".format(i+1, len(college_urls)), end=\"\")"
   ]
  },
  {
   "cell_type": "code",
   "execution_count": 145,
   "metadata": {},
   "outputs": [
    {
     "name": "stdout",
     "output_type": "stream",
     "text": [
      "62 []\n",
      "158 []\n",
      "231 ['\\u3000\\u3000时间', '\\xa0启动运行时间：2008年4月29日']\n",
      "294 ['\\u3000\\u3000时间', '启动运行时间：2009年5月27日']\n"
     ]
    }
   ],
   "source": [
    "times = []\n",
    "for i,r in enumerate(responses):\n",
    "    sel = Selector(text=r.content.decode('utf8'))\n",
    "    t = sel.xpath(\"//div[@class='main_leftCon']//p[3]/span/text()\").extract()\n",
    "    if len(t) >= 1:\n",
    "        times.append((i,t[0]))\n",
    "    else:\n",
    "        try:\n",
    "            t = sel.xpath(\"//div[@class='main_leftCon']//p[3]/text()\").extract()\n",
    "            times.append((i,t[-1][7:]))\n",
    "        except IndexError:\n",
    "            print(i,sel.xpath(\"//div[@class='main_leftCon']//p[3]//span/text()\").extract())"
   ]
  },
  {
   "cell_type": "code",
   "execution_count": 152,
   "metadata": {},
   "outputs": [
    {
     "data": {
      "text/plain": [
       "743"
      ]
     },
     "execution_count": 152,
     "metadata": {},
     "output_type": "execute_result"
    }
   ],
   "source": [
    "len(college_urls)"
   ]
  },
  {
   "cell_type": "code",
   "execution_count": 156,
   "metadata": {},
   "outputs": [],
   "source": [
    "times_v1 = [(i,t) for i,t in times if '2' in t ]"
   ]
  },
  {
   "cell_type": "code",
   "execution_count": 230,
   "metadata": {},
   "outputs": [],
   "source": [
    "times_v2 = []\n",
    "for i,t in times_v1:\n",
    "    if t.find('年') > 0 and t.find('月') > 0:\n",
    "        p_year = t.find('年')\n",
    "        p_month = t.find('月')\n",
    "    elif t.find('/') > 0:\n",
    "        p_year = t.find('/')\n",
    "        p_month = t[p_year+1:].find('/') + p_year+1\n",
    "        if p_month < 0:\n",
    "            continue\n",
    "    elif t.find('.') > 0:\n",
    "        p_year = t.find('.')\n",
    "        p_month = t[p_year+1:].find('.') + p_year+1 \n",
    "        if p_month < 0:\n",
    "            continue\n",
    "    else:\n",
    "        continue\n",
    "    year = '20' + t[p_year-2:p_year]\n",
    "    month = t[p_year+1:p_month]\n",
    "    times_v2.append((i,int(year),int(month)))\n",
    "    "
   ]
  },
  {
   "cell_type": "code",
   "execution_count": 232,
   "metadata": {},
   "outputs": [
    {
     "data": {
      "text/plain": [
       "[(0, 2008, 3),\n",
       " (1, 2009, 2),\n",
       " (2, 2007, 4),\n",
       " (3, 2013, 11),\n",
       " (6, 2008, 9),\n",
       " (8, 2009, 11),\n",
       " (9, 2006, 10),\n",
       " (10, 2009, 2),\n",
       " (11, 2015, 10),\n",
       " (12, 2009, 2)]"
      ]
     },
     "execution_count": 232,
     "metadata": {},
     "output_type": "execute_result"
    }
   ],
   "source": [
    "times_v2[:10]"
   ]
  },
  {
   "cell_type": "code",
   "execution_count": 235,
   "metadata": {},
   "outputs": [],
   "source": [
    "y0,m0 = 2002,1"
   ]
  },
  {
   "cell_type": "code",
   "execution_count": 239,
   "metadata": {},
   "outputs": [],
   "source": [
    "times_v3 = [(i,(y-y0)*12+(m-m0)) for i,y,m in times_v2]\n",
    "ts = [t for i,t in times_v3]"
   ]
  },
  {
   "cell_type": "code",
   "execution_count": 247,
   "metadata": {},
   "outputs": [],
   "source": [
    "% matplotlib inline\n",
    "import matplotlib.pyplot as plt\n",
    "\n",
    "bins = list(range(min(ts),max(ts),5))"
   ]
  },
  {
   "cell_type": "code",
   "execution_count": 248,
   "metadata": {},
   "outputs": [
    {
     "data": {
      "image/png": "[encoded data removed]",
      "text/plain": [
       "<matplotlib.figure.Figure at 0x11a31f828>"
      ]
     },
     "metadata": {},
     "output_type": "display_data"
    }
   ],
   "source": [
    "plt.hist(ts,bins=bins);\n",
    "# plt.xticks()"
   ]
  },
  {
   "cell_type": "code",
   "execution_count": 257,
   "metadata": {},
   "outputs": [],
   "source": [
    "tc = 100\n",
    "yc,mc = tc//12 + 2002, tc%12 + 1"
   ]
  },
  {
   "cell_type": "code",
   "execution_count": 258,
   "metadata": {},
   "outputs": [
    {
     "data": {
      "text/plain": [
       "(2010, 5)"
      ]
     },
     "execution_count": 258,
     "metadata": {},
     "output_type": "execute_result"
    }
   ],
   "source": [
    "yc,mc"
   ]
  },
  {
   "cell_type": "code",
   "execution_count": 259,
   "metadata": {},
   "outputs": [
    {
     "data": {
      "text/plain": [
       "132"
      ]
     },
     "execution_count": 259,
     "metadata": {},
     "output_type": "execute_result"
    }
   ],
   "source": [
    "(2013-2002)*12"
   ]
  },
  {
   "cell_type": "code",
   "execution_count": 260,
   "metadata": {},
   "outputs": [],
   "source": [
    "# youtube 12-15min"
   ]
  },
  {
   "cell_type": "code",
   "execution_count": null,
   "metadata": {},
   "outputs": [],
   "source": []
  }
 ],
 "metadata": {
  "kernelspec": {
   "display_name": "Python 3",
   "language": "python",
   "name": "python3"
  },
  "language_info": {
   "codemirror_mode": {
    "name": "ipython",
    "version": 3
   },
   "file_extension": ".py",
   "mimetype": "text/x-python",
   "name": "python",
   "nbconvert_exporter": "python",
   "pygments_lexer": "ipython3",
   "version": "3.6.4"
  }
 },
 "nbformat": 4,
 "nbformat_minor": 2
}
