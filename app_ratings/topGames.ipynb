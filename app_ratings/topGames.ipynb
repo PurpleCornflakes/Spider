{
 "cells": [
  {
   "cell_type": "code",
   "execution_count": 4,
   "metadata": {},
   "outputs": [],
   "source": [
    "from scrapy.selector import Selector"
   ]
  },
  {
   "cell_type": "code",
   "execution_count": null,
   "metadata": {},
   "outputs": [],
   "source": [
    "Html_file= open(\"topGames.html\",\"w\")\n",
    "Html_file.write(text)\n",
    "Html_file.close()"
   ]
  },
  {
   "cell_type": "code",
   "execution_count": 19,
   "metadata": {},
   "outputs": [],
   "source": [
    "sel = Selector(text=text)\n",
    "# urls = sel.xpath(\"//div[@class='tcon_nation']//a[@target='_blank']/@href\").extract()\n",
    "apps = sel.xpath(\"//li/div[2]/div/h5/@title\").extract()"
   ]
  },
  {
   "cell_type": "code",
   "execution_count": 22,
   "metadata": {},
   "outputs": [
    {
     "name": "stdout",
     "output_type": "stream",
     "text": [
      "FINAL FANTASY VI\n",
      "One Hour One Life for Mobile\n",
      "Hitman Sniper\n",
      "FINAL FANTASY VII\n",
      "NBA 2K19\n",
      "Minecraft\n",
      "Grand Theft Auto: San Andreas\n",
      "Cytus II\n"
     ]
    }
   ],
   "source": [
    "for app in set(apps):\n",
    "    if apps.count(app) == 2:\n",
    "        print(app)"
   ]
  }
 ],
 "metadata": {
  "kernelspec": {
   "display_name": "Python 3",
   "language": "python",
   "name": "python3"
  },
  "language_info": {
   "codemirror_mode": {
    "name": "ipython",
    "version": 3
   },
   "file_extension": ".py",
   "mimetype": "text/x-python",
   "name": "python",
   "nbconvert_exporter": "python",
   "pygments_lexer": "ipython3",
   "version": "3.6.4"
  }
 },
 "nbformat": 4,
 "nbformat_minor": 2
}
